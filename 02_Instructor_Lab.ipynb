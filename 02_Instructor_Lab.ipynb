{
 "cells": [
  {
   "cell_type": "markdown",
   "id": "136947c4-e057-4395-b873-a989c9008307",
   "metadata": {
    "editable": true,
    "slideshow": {
     "slide_type": ""
    },
    "tags": []
   },
   "source": [
    "UM MSBA - BGEN 632\n",
    "\n",
    "# Week 2 Instructor-led Lab\n",
    "\n",
    "In this assignment you will create basic code showcasing the concepts you learned about in the tutorial. \n",
    "\n",
    "**Create Code cells below this Markdown cell to complete the assignment. Write and run your code. To get full points, your submitted notebook must include saved output in addition to written code.** \n",
    "\n",
    "For this assignment, you are not required to create any Markdown cells but you are encouraged to do so to improve the aesthetics and organization of your lab submission. \n",
    "\n",
    "As stated in the syllabus, you <ins>must</ins> include information about your use of online resources to complete assignments, including chatbots like ChatGPT. You can include reference information within your notebooks and/or within separate files pushed to your repo on GitHub. Failure to disclose the use of online resources is a violation of course policy.\n",
    "\n",
    "## Assigning Values\n",
    "\n",
    "For this portion of the assignment, you will create variables in your notebook. You will assign a value to each variable. Please perform the following tasks and create each variable by assigning the following values:\n",
    "\n",
    "* my_int assign it a number between 1 and 20, inclusive.\n",
    "* long_a assign it the number 6,323,527,192.\n",
    "* float_pi assign it the number 3.14159\n",
    "* my_double assign it a fractional number with 13 decimals.\n",
    "* decimal_a assign it a fractional number with 20 decimals.\n",
    "* big_griz assign it the value G (uppercase).\n",
    "* my_hello assign it a greeting to the entire class.\n",
    "* my_goodbye assign it a farewell to your class.\n",
    "\n",
    "## Single Line Comments\n",
    "\n",
    "At the end of each variable, on the same line, place a single-line comment with a short description of each variable. For example, it would look like this:\n",
    "\n",
    "```\n",
    "new_double = 38.936921934     # A double with 9 decimal places\n",
    "```\n",
    "\n",
    "## Print Output\n",
    "\n",
    "Now that you have assigned values to your variables, let's print them. Output each variable individually.\n",
    "\n",
    "## Type Conversion\n",
    "\n",
    "The last task you have for this lab involves type conversion. Create new variables with the following types, names, and values. Use an explicit type conversion.\n",
    "\n",
    "* `int` named my_new_int with a number between 1 and 20, inclusive.\n",
    "* `float` named float_b with value 3.14159.\n",
    "  \n",
    "Output both variables. \n",
    "\n",
    "---"
   ]
  },
  {
   "cell_type": "code",
   "execution_count": 4,
   "id": "9b7b03f2-1fee-42f7-b533-6ede58f27022",
   "metadata": {},
   "outputs": [],
   "source": [
    "my_int = 16    # My number assigned 16"
   ]
  },
  {
   "cell_type": "code",
   "execution_count": 5,
   "id": "f25e84e6-edf0-4bd8-bca3-97228fcf5ffc",
   "metadata": {},
   "outputs": [
    {
     "data": {
      "text/plain": [
       "16"
      ]
     },
     "execution_count": 5,
     "metadata": {},
     "output_type": "execute_result"
    }
   ],
   "source": [
    "my_int"
   ]
  },
  {
   "cell_type": "code",
   "execution_count": 24,
   "id": "7fc3b96d-6167-4cfb-b699-7f639697a366",
   "metadata": {},
   "outputs": [],
   "source": [
    "long_a = 6323527192    # The number 6323527192"
   ]
  },
  {
   "cell_type": "code",
   "execution_count": 25,
   "id": "67ddf863-53b6-4a32-9007-2a2b50a20e17",
   "metadata": {},
   "outputs": [
    {
     "data": {
      "text/plain": [
       "6323527192"
      ]
     },
     "execution_count": 25,
     "metadata": {},
     "output_type": "execute_result"
    }
   ],
   "source": [
    "long_a"
   ]
  },
  {
   "cell_type": "code",
   "execution_count": 26,
   "id": "8126408e-c12f-4c1f-854e-c82d257ce6a6",
   "metadata": {},
   "outputs": [],
   "source": [
    "float_pi = 3.14159    # The number pi with 5 decimal places"
   ]
  },
  {
   "cell_type": "code",
   "execution_count": 27,
   "id": "fe42e99e-322d-4a58-ae71-f20ff3f187fb",
   "metadata": {},
   "outputs": [
    {
     "data": {
      "text/plain": [
       "3.14159"
      ]
     },
     "execution_count": 27,
     "metadata": {},
     "output_type": "execute_result"
    }
   ],
   "source": [
    "float_pi"
   ]
  },
  {
   "cell_type": "code",
   "execution_count": 28,
   "id": "74563f86-1d98-46e0-b966-c139ea3cb23f",
   "metadata": {},
   "outputs": [],
   "source": [
    "my_double = float(1.1323456285451)    # My fraction with 13 decimal places"
   ]
  },
  {
   "cell_type": "code",
   "execution_count": 29,
   "id": "15f726ea-784f-45ef-9292-40d787e8297e",
   "metadata": {},
   "outputs": [
    {
     "data": {
      "text/plain": [
       "1.1323456285451"
      ]
     },
     "execution_count": 29,
     "metadata": {},
     "output_type": "execute_result"
    }
   ],
   "source": [
    "my_double"
   ]
  },
  {
   "cell_type": "code",
   "execution_count": 30,
   "id": "0d6b5cd4-2fdc-4f59-86c6-27e186d26318",
   "metadata": {},
   "outputs": [],
   "source": [
    "decimal_a = float(2.12549865123548975135) # My fraction with 20 decimal places"
   ]
  },
  {
   "cell_type": "code",
   "execution_count": 31,
   "id": "b0da6434-0cb5-43c2-8625-4961e7157963",
   "metadata": {},
   "outputs": [
    {
     "data": {
      "text/plain": [
       "2.12549865123549"
      ]
     },
     "execution_count": 31,
     "metadata": {},
     "output_type": "execute_result"
    }
   ],
   "source": [
    "decimal_a"
   ]
  },
  {
   "cell_type": "code",
   "execution_count": 32,
   "id": "61f24bf7-3146-4a58-8e6a-c68e2c7d66e7",
   "metadata": {},
   "outputs": [],
   "source": [
    "big_griz = \"G\" # Capital G"
   ]
  },
  {
   "cell_type": "code",
   "execution_count": 33,
   "id": "fa2cfa7e-64b3-4cb8-8651-6f35a59f7310",
   "metadata": {},
   "outputs": [
    {
     "data": {
      "text/plain": [
       "'G'"
      ]
     },
     "execution_count": 33,
     "metadata": {},
     "output_type": "execute_result"
    }
   ],
   "source": [
    "big_griz"
   ]
  },
  {
   "cell_type": "code",
   "execution_count": 34,
   "id": "eae05d70-3eac-49fd-a4e7-7b7a218c3972",
   "metadata": {},
   "outputs": [],
   "source": [
    "my_hello = \"Hello everyone! Who is excited for some coding?\" # My greeting to the class"
   ]
  },
  {
   "cell_type": "code",
   "execution_count": 35,
   "id": "8f452811-b322-4f55-91f8-2f92aa706ec4",
   "metadata": {},
   "outputs": [
    {
     "data": {
      "text/plain": [
       "'Hello everyone! Who is excited for some coding?'"
      ]
     },
     "execution_count": 35,
     "metadata": {},
     "output_type": "execute_result"
    }
   ],
   "source": [
    "my_hello"
   ]
  },
  {
   "cell_type": "code",
   "execution_count": 36,
   "id": "462b0c3d-692e-4d27-8936-fd19e4ce4c6b",
   "metadata": {},
   "outputs": [],
   "source": [
    "my_goodbye = \"Goodbye for now!\" # My farewell to the class"
   ]
  },
  {
   "cell_type": "code",
   "execution_count": 37,
   "id": "8869ecd5-e707-4820-9b70-2b97ffc9be6f",
   "metadata": {},
   "outputs": [
    {
     "data": {
      "text/plain": [
       "'Goodbye for now!'"
      ]
     },
     "execution_count": 37,
     "metadata": {},
     "output_type": "execute_result"
    }
   ],
   "source": [
    "my_goodbye"
   ]
  },
  {
   "cell_type": "code",
   "execution_count": 38,
   "id": "49a73fd1-720a-47e1-8aeb-ff21a42aa59b",
   "metadata": {},
   "outputs": [],
   "source": [
    "my_new_int = int(17) # My new int 17"
   ]
  },
  {
   "cell_type": "code",
   "execution_count": 39,
   "id": "82193424-6dab-4495-b8fc-697ef0c91840",
   "metadata": {},
   "outputs": [
    {
     "data": {
      "text/plain": [
       "17"
      ]
     },
     "execution_count": 39,
     "metadata": {},
     "output_type": "execute_result"
    }
   ],
   "source": [
    "my_new_int"
   ]
  },
  {
   "cell_type": "code",
   "execution_count": 40,
   "id": "5b4cf071-9b40-422f-98da-65e3c1d44be9",
   "metadata": {},
   "outputs": [],
   "source": [
    "float_b = float(3.14159) #Float assigned 3.14159"
   ]
  },
  {
   "cell_type": "code",
   "execution_count": 41,
   "id": "f7257a0b-2ef0-4c68-bd16-5cc7ce18fdc8",
   "metadata": {},
   "outputs": [
    {
     "data": {
      "text/plain": [
       "3.14159"
      ]
     },
     "execution_count": 41,
     "metadata": {},
     "output_type": "execute_result"
    }
   ],
   "source": [
    "float_b"
   ]
  },
  {
   "cell_type": "code",
   "execution_count": null,
   "id": "ef9e670e-963f-43af-8b03-7a5004fcb5bd",
   "metadata": {},
   "outputs": [],
   "source": []
  }
 ],
 "metadata": {
  "kernelspec": {
   "display_name": "Python 3 (ipykernel)",
   "language": "python",
   "name": "python3"
  },
  "language_info": {
   "codemirror_mode": {
    "name": "ipython",
    "version": 3
   },
   "file_extension": ".py",
   "mimetype": "text/x-python",
   "name": "python",
   "nbconvert_exporter": "python",
   "pygments_lexer": "ipython3",
   "version": "3.13.2"
  }
 },
 "nbformat": 4,
 "nbformat_minor": 5
}
