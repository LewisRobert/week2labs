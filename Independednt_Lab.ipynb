{
 "cells": [
  {
   "cell_type": "markdown",
   "id": "067ef171-9714-43d8-a794-9ef118f2103f",
   "metadata": {},
   "source": [
    "Intro to Python\n",
    "Independent Lab\n",
    "Lewis Hughes \n",
    "03/10/25\n",
    "\n",
    "Welcome to my lab! We will be converting Fahrenheit and Celsius here. "
   ]
  },
  {
   "cell_type": "code",
   "execution_count": 16,
   "id": "9229aee2-cbd9-40ce-b06a-5132bae205a8",
   "metadata": {},
   "outputs": [],
   "source": [
    "celsius = 0.0"
   ]
  },
  {
   "cell_type": "code",
   "execution_count": 17,
   "id": "b6915391-b55d-41c4-8a6d-2dd06522f521",
   "metadata": {},
   "outputs": [],
   "source": [
    "fahrenheit = 0.0"
   ]
  },
  {
   "cell_type": "code",
   "execution_count": 19,
   "id": "33db4650-03ff-4f83-af54-ba1db35983d9",
   "metadata": {},
   "outputs": [
    {
     "name": "stdin",
     "output_type": "stream",
     "text": [
      "Please provide a value, in Celsius, to convert:\n",
      " 37\n"
     ]
    }
   ],
   "source": [
    "celsius = float(input(\"Please provide a value, in Celsius, to convert:\\n\"))"
   ]
  },
  {
   "cell_type": "markdown",
   "id": "191d2bae-cf25-4493-9184-6f81e3ee6e15",
   "metadata": {},
   "source": [
    "I chose `float` here because it will more accuratley represent the possible variables that could be used."
   ]
  },
  {
   "cell_type": "code",
   "execution_count": 20,
   "id": "0176bdc5-5d59-4839-abed-bd662c022d4c",
   "metadata": {},
   "outputs": [],
   "source": [
    "fahrenheit = (9/5) * celsius + 32"
   ]
  },
  {
   "cell_type": "code",
   "execution_count": 21,
   "id": "5b89402f-aa5c-4e97-9df6-a2274296626f",
   "metadata": {},
   "outputs": [
    {
     "name": "stdout",
     "output_type": "stream",
     "text": [
      "37.0 degrees celsius is 98.60000000000001 defrees fahrenheit.\n"
     ]
    }
   ],
   "source": [
    "print(f\"{celsius} degrees celsius is {fahrenheit} defrees fahrenheit.\")"
   ]
  },
  {
   "cell_type": "code",
   "execution_count": 22,
   "id": "247271af-efc4-428a-bdca-ac9f5f949a7e",
   "metadata": {},
   "outputs": [],
   "source": [
    "int_fahrenheit = int(fahrenheit)"
   ]
  },
  {
   "cell_type": "code",
   "execution_count": 23,
   "id": "442afdd4-e7b1-415c-be1c-3e9a63414a3c",
   "metadata": {},
   "outputs": [
    {
     "name": "stdout",
     "output_type": "stream",
     "text": [
      "Integer Fahrenheit value: 98\n"
     ]
    }
   ],
   "source": [
    "print(f\"Integer Fahrenheit value: {int_fahrenheit}\")"
   ]
  },
  {
   "cell_type": "code",
   "execution_count": 24,
   "id": "48943162-0267-4eff-a109-40198cf7470a",
   "metadata": {},
   "outputs": [
    {
     "name": "stdout",
     "output_type": "stream",
     "text": [
      "Data type of int_fahrenheit: <class 'int'>\n"
     ]
    }
   ],
   "source": [
    "print(f\"Data type of int_fahrenheit: {type(int_fahrenheit)}\")"
   ]
  },
  {
   "cell_type": "code",
   "execution_count": null,
   "id": "1c553c4d-264b-41c4-a920-6ec62351872c",
   "metadata": {},
   "outputs": [],
   "source": []
  }
 ],
 "metadata": {
  "kernelspec": {
   "display_name": "Python 3 (ipykernel)",
   "language": "python",
   "name": "python3"
  },
  "language_info": {
   "codemirror_mode": {
    "name": "ipython",
    "version": 3
   },
   "file_extension": ".py",
   "mimetype": "text/x-python",
   "name": "python",
   "nbconvert_exporter": "python",
   "pygments_lexer": "ipython3",
   "version": "3.13.2"
  }
 },
 "nbformat": 4,
 "nbformat_minor": 5
}
